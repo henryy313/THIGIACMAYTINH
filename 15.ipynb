{
 "cells": [
  {
   "cell_type": "code",
   "execution_count": 1,
   "id": "07a725f2-d95f-47d9-98c2-e0f4e375cc79",
   "metadata": {},
   "outputs": [],
   "source": [
    "from scipy import linalg\n",
    "import numpy as np"
   ]
  },
  {
   "cell_type": "code",
   "execution_count": 9,
   "id": "8b691868-8773-4ff5-9090-7c2267202787",
   "metadata": {},
   "outputs": [
    {
     "name": "stdout",
     "output_type": "stream",
     "text": [
      "Kết quả:  [ 3. -1.]\n"
     ]
    }
   ],
   "source": [
    "A = np.array([[2, 1],[3, 2]])\n",
    "b = np.array([5,7])\n",
    "\n",
    "x = linalg.solve(A, b)\n",
    "print(\"Kết quả: \", x)"
   ]
  },
  {
   "cell_type": "code",
   "execution_count": 11,
   "id": "3664a091-84c8-41f0-9cb8-d4f4d9e3123d",
   "metadata": {},
   "outputs": [
    {
     "name": "stdout",
     "output_type": "stream",
     "text": [
      "Tích phân f(x) từ 0 đến 1:  (0.33333333333333337, 3.700743415417189e-15)\n"
     ]
    }
   ],
   "source": [
    "from scipy import integrate\n",
    "\n",
    "def my_function(x):\n",
    "    return x**2\n",
    "\n",
    "integral = integrate.quad(my_function, 0, 1);\n",
    "print(\"Tích phân f(x) từ 0 đến 1: \", integral)"
   ]
  },
  {
   "cell_type": "code",
   "execution_count": 13,
   "id": "5c2ea522-d3e8-44ef-b730-24f1dbac6cfc",
   "metadata": {},
   "outputs": [
    {
     "name": "stdout",
     "output_type": "stream",
     "text": [
      "Giá trị riêng:  [3.73205081+0.j 0.26794919+0.j]\n",
      "Vector riêng:  [[ 0.5       -0.5      ]\n",
      " [ 0.8660254  0.8660254]]\n"
     ]
    }
   ],
   "source": [
    "from scipy import linalg\n",
    "import numpy as np\n",
    "\n",
    "A = np.array([[2,1], [3,2]])\n",
    "\n",
    "evals, evecs = linalg.eig(A)\n",
    "\n",
    "print(\"Giá trị riêng: \", evals)\n",
    "print(\"Vector riêng: \", evecs)"
   ]
  },
  {
   "cell_type": "code",
   "execution_count": null,
   "id": "f24903a7-6228-4edf-8190-01d0bbd9215e",
   "metadata": {},
   "outputs": [],
   "source": []
  }
 ],
 "metadata": {
  "kernelspec": {
   "display_name": "Python 3 (ipykernel)",
   "language": "python",
   "name": "python3"
  },
  "language_info": {
   "codemirror_mode": {
    "name": "ipython",
    "version": 3
   },
   "file_extension": ".py",
   "mimetype": "text/x-python",
   "name": "python",
   "nbconvert_exporter": "python",
   "pygments_lexer": "ipython3",
   "version": "3.12.4"
  }
 },
 "nbformat": 4,
 "nbformat_minor": 5
}
